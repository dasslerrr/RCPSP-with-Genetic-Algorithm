{
 "cells": [
  {
   "cell_type": "code",
   "execution_count": 1,
   "id": "ace7dc10-e001-41ca-a622-9973b284563f",
   "metadata": {},
   "outputs": [],
   "source": [
    "# Define activities: name, required resources, and time to finish\n",
    "activities = [\n",
    "    (\"a\", 2, 3),\n",
    "    (\"b\", 3, 4),\n",
    "    (\"c\", 4, 2),\n",
    "    (\"d\", 4, 2),\n",
    "    (\"e\", 3, 1),\n",
    "    (\"f\", 2, 4),\n",
    "]\n",
    "\n",
    "# Define the total available resources\n",
    "total_resources = 4"
   ]
  },
  {
   "cell_type": "code",
   "execution_count": 2,
   "id": "87f77969-2c30-441c-89b5-6b790bda6232",
   "metadata": {},
   "outputs": [],
   "source": [
    "import random\n",
    "\n",
    "def generate_random_schedule():\n",
    "    # Shuffle the activities randomly to create a schedule\n",
    "    schedule = random.sample(activities, len(activities))\n",
    "    return schedule"
   ]
  },
  {
   "cell_type": "code",
   "execution_count": 3,
   "id": "e6bbab3f",
   "metadata": {},
   "outputs": [],
   "source": [
    "def evaluate_schedule(schedule):\n",
    "    total_time = 0\n",
    "    current_resources = 0\n",
    "    current_activities = []  # Activities running concurrently\n",
    "    \n",
    "    for activity, resources, time in schedule:\n",
    "        # Check resource constraint\n",
    "        if current_resources + resources <= total_resources:\n",
    "            current_resources += resources\n",
    "            current_activities.append((activity, time))\n",
    "        else:\n",
    "            # Find the maximum time among the activities that can run concurrently\n",
    "            max_time = max(current_activities, key=lambda x: x[1])[1]\n",
    "            total_time += max_time\n",
    "            \n",
    "            # Reset current resources and activities\n",
    "            current_resources = resources\n",
    "            current_activities = [(activity, time)]\n",
    "    \n",
    "    # Add the time for the last batch of activities\n",
    "    total_time += max(current_activities, key=lambda x: x[1])[1]\n",
    "    \n",
    "    return total_time"
   ]
  },
  {
   "cell_type": "code",
   "execution_count": 4,
   "id": "16235c27",
   "metadata": {},
   "outputs": [],
   "source": [
    "def crossover(parent1, parent2):\n",
    "    # Order-based crossover (OX)\n",
    "    # Choose two random crossover points\n",
    "    crossover_point1 = random.randint(0, len(parent1) - 1)\n",
    "    crossover_point2 = random.randint(crossover_point1 + 1, len(parent1))\n",
    "\n",
    "    # Create two empty offspring with the same length as the parents\n",
    "    offspring1 = [None] * len(parent1)\n",
    "    offspring2 = [None] * len(parent1)\n",
    "\n",
    "    # Copy the genetic material between the crossover points from parent1 to offspring1 and from parent2 to offspring2\n",
    "    offspring1[crossover_point1:crossover_point2] = parent1[crossover_point1:crossover_point2]\n",
    "    offspring2[crossover_point1:crossover_point2] = parent2[crossover_point1:crossover_point2]\n",
    "\n",
    "    # Fill in the remaining positions with genetic material from parent2 to offspring1 and from parent1 to offspring2\n",
    "    idx2 = crossover_point2\n",
    "    idx1 = crossover_point2\n",
    "    while None in offspring1:\n",
    "        gene2 = parent2[idx2 % len(parent2)]\n",
    "        gene1 = parent1[idx1 % len(parent1)]\n",
    "        if gene2 not in offspring1:\n",
    "            offspring1[idx1 % len(parent1)] = gene2\n",
    "        if gene1 not in offspring2:\n",
    "            offspring2[idx2 % len(parent2)] = gene1\n",
    "        idx1 += 1\n",
    "        idx2 += 1\n",
    "\n",
    "    return offspring1, offspring2"
   ]
  },
  {
   "cell_type": "code",
   "execution_count": 5,
   "id": "f16c2284",
   "metadata": {},
   "outputs": [],
   "source": [
    "def genetic_algorithm(num_generations, pop_size):\n",
    "    population = [generate_random_schedule() for _ in range(pop_size)]\n",
    "    \n",
    "    for generation in range(num_generations):\n",
    "        # Evaluate fitness of the population\n",
    "        fitness_scores = [evaluate_schedule(schedule) for schedule in population]\n",
    "        \n",
    "        # Create new generation through tournament selection, crossover, and mutation\n",
    "        new_population = []\n",
    "        while len(new_population) < pop_size:\n",
    "            # Tournament selection (select two random schedules and pick the best)\n",
    "            tournament_size = min(5, len(population))\n",
    "            tournament = random.sample(list(enumerate(population)), tournament_size)\n",
    "            tournament.sort(key=lambda x: fitness_scores[x[0]])\n",
    "            parent1 = tournament[0][1]\n",
    "            parent2 = tournament[1][1]\n",
    "            \n",
    "            offspring1, offspring2 = crossover(parent1, parent2)\n",
    "            \n",
    "            # Mutation\n",
    "            if random.random() < 0.1:\n",
    "                offspring1 = generate_random_schedule()\n",
    "            if random.random() < 0.1:\n",
    "                offspring2 = generate_random_schedule()\n",
    "            \n",
    "            # Add offspring to the new population\n",
    "            new_population.extend([offspring1, offspring2])\n",
    "        \n",
    "        # Sort the population by fitness\n",
    "        population_with_fitness = list(zip(population, fitness_scores))\n",
    "        population_with_fitness.sort(key=lambda x: x[1])\n",
    "        population = [schedule for schedule, _ in population_with_fitness[:pop_size]]\n",
    "    \n",
    "    # Select the best solution as the result\n",
    "    best_schedule = min(population, key=evaluate_schedule)\n",
    "    return best_schedule, evaluate_schedule(best_schedule)"
   ]
  },
  {
   "cell_type": "code",
   "execution_count": 6,
   "id": "abecaef8-45fd-49ea-bcd9-b0dfa07abb70",
   "metadata": {},
   "outputs": [
    {
     "name": "stdout",
     "output_type": "stream",
     "text": [
      "Best schedule: ['d', 'c', 'b', 'f', 'a', 'e']\n",
      "Best duration: 13\n"
     ]
    }
   ],
   "source": [
    "# Example usage\n",
    "if __name__ == \"__main__\":\n",
    "    num_generations = 100\n",
    "    pop_size = 50\n",
    "    best_schedule, best_duration = genetic_algorithm(num_generations, pop_size)\n",
    "    print(\"Best schedule:\", [activity for activity, _, _ in best_schedule])\n",
    "    print(\"Best duration:\", best_duration)\n"
   ]
  },
  {
   "cell_type": "code",
   "execution_count": null,
   "id": "ee8cea3a-4dbe-4330-9b54-f8b4eb6cdff3",
   "metadata": {},
   "outputs": [],
   "source": []
  }
 ],
 "metadata": {
  "kernelspec": {
   "display_name": "Python 3 (ipykernel)",
   "language": "python",
   "name": "python3"
  },
  "language_info": {
   "codemirror_mode": {
    "name": "ipython",
    "version": 3
   },
   "file_extension": ".py",
   "mimetype": "text/x-python",
   "name": "python",
   "nbconvert_exporter": "python",
   "pygments_lexer": "ipython3",
   "version": "3.10.13"
  }
 },
 "nbformat": 4,
 "nbformat_minor": 5
}
